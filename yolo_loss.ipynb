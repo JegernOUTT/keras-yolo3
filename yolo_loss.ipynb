{
 "cells": [
  {
   "cell_type": "code",
   "execution_count": 1,
   "metadata": {},
   "outputs": [
    {
     "name": "stderr",
     "output_type": "stream",
     "text": [
      "Using TensorFlow backend.\n"
     ]
    }
   ],
   "source": [
    "from keras.applications import MobileNetV2\n",
    "from keras.layers import Conv2D, Input, BatchNormalization, LeakyReLU, ZeroPadding2D, UpSampling2D, Lambda, \\\n",
    "    regularizers, MaxPooling2D, Concatenate, Add\n",
    "from keras.layers.merge import add, concatenate\n",
    "from keras.models import Model\n",
    "from keras.engine.topology import Layer\n",
    "import keras.backend as K\n",
    "import tensorflow as tf\n",
    "from keras.regularizers import l2\n",
    "from functools import reduce\n",
    "import operator\n",
    "import numpy as np\n",
    "\n",
    "tf.enable_eager_execution()"
   ]
  },
  {
   "cell_type": "code",
   "execution_count": 2,
   "metadata": {},
   "outputs": [],
   "source": [
    "anchors = [12,30, 14,64, 25,93, 29,41, 43,76, 44,143, 77,92, 79,182, 246,277]\n",
    "max_grid = [608, 608]\n",
    "batch_size = 16\n",
    "warmup_batches = 0\n",
    "ignore_thresh = 0.5\n",
    "yolo_loss_options = {\n",
    "    'grid_scale': 1,\n",
    "    'obj_scale': 1,\n",
    "    'noobj_scale': 1,\n",
    "    'xywh_scale': 1,\n",
    "    'class_scale': 1\n",
    "}"
   ]
  },
  {
   "cell_type": "code",
   "execution_count": 3,
   "metadata": {},
   "outputs": [],
   "source": [
    "anchors = anchors[:6]\n",
    "max_grid = [num // 32 for num in max_grid]"
   ]
  },
  {
   "cell_type": "code",
   "execution_count": 4,
   "metadata": {},
   "outputs": [],
   "source": [
    "ignore_thresh = ignore_thresh\n",
    "warmup_batches = warmup_batches\n",
    "anchors = tf.constant(anchors, dtype=K.floatx(), shape=[1, 1, 1, 3, 2])\n",
    "\n",
    "grid_scale = yolo_loss_options['grid_scale']\n",
    "obj_scale = yolo_loss_options['obj_scale']\n",
    "noobj_scale = yolo_loss_options['noobj_scale']\n",
    "xywh_scale = yolo_loss_options['xywh_scale']\n",
    "class_scale = yolo_loss_options['class_scale']\n",
    "\n",
    "# make a persistent mesh grid\n",
    "max_grid_h, max_grid_w = max_grid\n",
    "\n",
    "cell_x = tf.to_float(tf.reshape(tf.tile(tf.range(max_grid_w), [max_grid_h]), (1, max_grid_h, max_grid_w, 1, 1)))\n",
    "cell_y = tf.to_float(tf.reshape(tf.tile(tf.range(max_grid_h), [max_grid_w]), (1, max_grid_w, max_grid_h, 1, 1)))\n",
    "cell_y = tf.transpose(cell_y, (0, 2, 1, 3, 4))\n",
    "cell_grid = tf.tile(tf.concat([cell_x, cell_y], -1), [batch_size, 1, 1, 3, 1])"
   ]
  },
  {
   "cell_type": "code",
   "execution_count": 5,
   "metadata": {},
   "outputs": [],
   "source": [
    "input_image = np.ones((batch_size, 608, 608, 3), dtype=np.float32)\n",
    "y_pred = np.zeros((batch_size, 19, 19, 24), dtype=np.float32)\n",
    "y_true = np.zeros((batch_size, 19, 19, 3, 8), dtype=np.float32)\n",
    "true_boxes = np.zeros((batch_size, 1, 1, 1, 200, 4), dtype=np.float32)"
   ]
  },
  {
   "cell_type": "code",
   "execution_count": 6,
   "metadata": {},
   "outputs": [
    {
     "data": {
      "text/plain": [
       "TensorShape([Dimension(16), Dimension(19), Dimension(19), Dimension(3), Dimension(8)])"
      ]
     },
     "execution_count": 6,
     "metadata": {},
     "output_type": "execute_result"
    }
   ],
   "source": [
    "# adjust the shape of the y_predict [batch, grid_h, grid_w, 3, 4+1+nb_class]\n",
    "y_pred = tf.reshape(y_pred, tf.concat([tf.shape(y_pred)[:3], tf.constant([3, -1])], axis=0))\n",
    "y_pred.shape"
   ]
  },
  {
   "cell_type": "code",
   "execution_count": 7,
   "metadata": {},
   "outputs": [
    {
     "data": {
      "text/plain": [
       "TensorShape([Dimension(16), Dimension(19), Dimension(19), Dimension(3), Dimension(1)])"
      ]
     },
     "execution_count": 7,
     "metadata": {},
     "output_type": "execute_result"
    }
   ],
   "source": [
    "# initialize the masks\n",
    "object_mask = tf.expand_dims(y_true[..., 4], 4)\n",
    "object_mask.shape"
   ]
  },
  {
   "cell_type": "code",
   "execution_count": 8,
   "metadata": {},
   "outputs": [
    {
     "data": {
      "text/plain": [
       "(<tf.Tensor: id=54, shape=(1, 1, 1, 1, 2), dtype=float32, numpy=array([[[[[19., 19.]]]]], dtype=float32)>,\n",
       " <tf.Tensor: id=70, shape=(1, 1, 1, 1, 2), dtype=float32, numpy=array([[[[[608., 608.]]]]], dtype=float32)>)"
      ]
     },
     "execution_count": 8,
     "metadata": {},
     "output_type": "execute_result"
    }
   ],
   "source": [
    "# compute grid factor and net factor\n",
    "grid_h = tf.shape(y_true)[1]\n",
    "grid_w = tf.shape(y_true)[2]\n",
    "grid_factor = tf.reshape(tf.cast([grid_w, grid_h], K.floatx()), [1, 1, 1, 1, 2])\n",
    "\n",
    "net_h = tf.shape(input_image)[1]\n",
    "net_w = tf.shape(input_image)[2]\n",
    "net_factor = tf.reshape(tf.cast([net_w, net_h], K.floatx()), [1, 1, 1, 1, 2])\n",
    "\n",
    "grid_factor, net_factor"
   ]
  },
  {
   "cell_type": "code",
   "execution_count": 9,
   "metadata": {},
   "outputs": [],
   "source": [
    "\"\"\"\n",
    "Adjust prediction\n",
    "\"\"\"\n",
    "pred_box_xy = cell_grid + tf.sigmoid(y_pred[..., :2])  # sigma(t_xy) + c_xy\n",
    "pred_box_wh = y_pred[..., 2:4]  # t_wh\n",
    "pred_box_conf = tf.expand_dims(tf.sigmoid(y_pred[..., 4]), 4)  # adjust confidence\n",
    "pred_box_class = y_pred[..., 5:]  # adjust class probabilities"
   ]
  },
  {
   "cell_type": "code",
   "execution_count": 10,
   "metadata": {},
   "outputs": [],
   "source": [
    "true_box_xy = y_true[..., 0:2]  # (sigma(t_xy) + c_xy)\n",
    "true_box_wh = y_true[..., 2:4]  # t_wh\n",
    "true_box_conf = tf.expand_dims(y_true[..., 4], 4)\n",
    "true_box_class = tf.argmax(y_true[..., 5:], -1)"
   ]
  },
  {
   "cell_type": "code",
   "execution_count": 11,
   "metadata": {},
   "outputs": [],
   "source": [
    "conf_delta = pred_box_conf - 0"
   ]
  },
  {
   "cell_type": "code",
   "execution_count": 12,
   "metadata": {},
   "outputs": [],
   "source": [
    "# then, ignore the boxes which have good overlap with some true box\n",
    "true_xy = true_boxes[..., 0:2] / grid_factor\n",
    "true_wh = true_boxes[..., 2:4] / net_factor"
   ]
  },
  {
   "cell_type": "code",
   "execution_count": 13,
   "metadata": {},
   "outputs": [],
   "source": [
    "true_wh_half = true_wh / 2.\n",
    "true_mins = true_xy - true_wh_half\n",
    "true_maxes = true_xy + true_wh_half"
   ]
  },
  {
   "cell_type": "code",
   "execution_count": 15,
   "metadata": {},
   "outputs": [],
   "source": [
    "pred_xy = tf.expand_dims(pred_box_xy / grid_factor, 4)\n",
    "pred_wh = tf.expand_dims(tf.exp(pred_box_wh) * anchors / net_factor, 4)"
   ]
  },
  {
   "cell_type": "code",
   "execution_count": 16,
   "metadata": {},
   "outputs": [],
   "source": [
    "pred_wh_half = pred_wh / 2.\n",
    "pred_mins = pred_xy - pred_wh_half\n",
    "pred_maxes = pred_xy + pred_wh_half"
   ]
  },
  {
   "cell_type": "code",
   "execution_count": 18,
   "metadata": {},
   "outputs": [],
   "source": [
    "intersect_mins = tf.maximum(pred_mins, true_mins)\n",
    "intersect_maxes = tf.minimum(pred_maxes, true_maxes)\n",
    "intersect_wh = tf.maximum(intersect_maxes - intersect_mins, 0.)\n",
    "intersect_areas = intersect_wh[..., 0] * intersect_wh[..., 1]"
   ]
  },
  {
   "cell_type": "code",
   "execution_count": 19,
   "metadata": {},
   "outputs": [],
   "source": [
    "true_areas = true_wh[..., 0] * true_wh[..., 1]\n",
    "pred_areas = pred_wh[..., 0] * pred_wh[..., 1]"
   ]
  },
  {
   "cell_type": "code",
   "execution_count": 20,
   "metadata": {},
   "outputs": [],
   "source": [
    "union_areas = pred_areas + true_areas - intersect_areas\n",
    "iou_scores = tf.truediv(intersect_areas, union_areas)"
   ]
  },
  {
   "cell_type": "code",
   "execution_count": 22,
   "metadata": {},
   "outputs": [],
   "source": [
    "best_ious = tf.reduce_max(iou_scores, axis=4)\n",
    "conf_delta *= tf.expand_dims(tf.to_float(best_ious < ignore_thresh), 4)"
   ]
  },
  {
   "cell_type": "code",
   "execution_count": 35,
   "metadata": {},
   "outputs": [],
   "source": [
    "true_box_xy, true_box_wh, xywh_mask = true_box_xy, true_box_wh, object_mask"
   ]
  },
  {
   "cell_type": "code",
   "execution_count": 33,
   "metadata": {},
   "outputs": [],
   "source": [
    "wh_scale = tf.exp(true_box_wh) * anchors / net_factor\n",
    "wh_scale = tf.expand_dims(2 - wh_scale[..., 0] * wh_scale[..., 1], axis=4)"
   ]
  },
  {
   "cell_type": "code",
   "execution_count": 38,
   "metadata": {},
   "outputs": [],
   "source": [
    "xy_delta = xywh_mask * (pred_box_xy - true_box_xy) * wh_scale * xywh_scale\n",
    "wh_delta = xywh_mask * (pred_box_wh - true_box_wh) * wh_scale * xywh_scale\n",
    "conf_delta = object_mask * (pred_box_conf - true_box_conf) * obj_scale + (1 - object_mask) * conf_delta * noobj_scale\n",
    "class_delta = object_mask * \\\n",
    "              tf.expand_dims(\n",
    "                  tf.nn.sparse_softmax_cross_entropy_with_logits(labels=true_box_class, logits=pred_box_class),\n",
    "                  4) * \\\n",
    "              class_scale"
   ]
  },
  {
   "cell_type": "code",
   "execution_count": 41,
   "metadata": {},
   "outputs": [
    {
     "data": {
      "text/plain": [
       "<tf.Tensor: id=281, shape=(16,), dtype=float32, numpy=\n",
       "array([0.25, 0.25, 0.25, 0.25, 0.25, 0.25, 0.25, 0.25, 0.25, 0.25, 0.25,\n",
       "       0.25, 0.25, 0.25, 0.25, 0.25], dtype=float32)>"
      ]
     },
     "execution_count": 41,
     "metadata": {},
     "output_type": "execute_result"
    }
   ],
   "source": [
    "loss_xy = tf.reduce_mean(tf.square(xy_delta), [1, 2, 3, 4])\n",
    "loss_wh = tf.reduce_mean(tf.square(wh_delta), [1, 2, 3, 4])\n",
    "loss_conf = tf.reduce_mean(tf.square(conf_delta), [1, 2, 3, 4])\n",
    "loss_class = tf.reduce_mean(class_delta, [1, 2, 3, 4])\n",
    "\n",
    "loss_xy + loss_wh + loss_conf + loss_class"
   ]
  },
  {
   "cell_type": "code",
   "execution_count": null,
   "metadata": {},
   "outputs": [],
   "source": [
    "1 - object_mask"
   ]
  },
  {
   "cell_type": "code",
   "execution_count": null,
   "metadata": {},
   "outputs": [],
   "source": []
  }
 ],
 "metadata": {
  "kernelspec": {
   "display_name": "Python 3",
   "language": "python",
   "name": "python3"
  },
  "language_info": {
   "codemirror_mode": {
    "name": "ipython",
    "version": 3
   },
   "file_extension": ".py",
   "mimetype": "text/x-python",
   "name": "python",
   "nbconvert_exporter": "python",
   "pygments_lexer": "ipython3",
   "version": "3.6.3"
  }
 },
 "nbformat": 4,
 "nbformat_minor": 2
}
